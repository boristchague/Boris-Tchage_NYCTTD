{
 "cells": [
  {
   "cell_type": "markdown",
   "metadata": {},
   "source": [
    "#                                            DATA SCIENCE "
   ]
  },
  {
   "cell_type": "markdown",
   "metadata": {},
   "source": [
    "##  1. Importing modules"
   ]
  },
  {
   "cell_type": "code",
   "execution_count": 111,
   "metadata": {},
   "outputs": [],
   "source": [
    "import os \n",
    "\n",
    "import numpy as np\n",
    "import pandas as pd\n",
    "import seaborn as sns\n",
    "import matplotlib.pyplot as plt\n",
    "import sklearn\n",
    "import warnings\n",
    "warnings.filterwarnings(\"ignore\")\n",
    "\n",
    "\n",
    "from sklearn import linear_model\n",
    "from sklearn.metrics import mean_squared_error, mean_squared_error as MSE\n",
    "from sklearn.linear_model import LinearRegression, Lasso\n",
    "from sklearn.model_selection import cross_val_score, cross_val_predict\n",
    "\n",
    "\n",
    "# Settings\n",
    "import matplotlib\n",
    "matplotlib.style.use('fivethirtyeight')\n",
    "plt.rcParams['figure.figsize'] = (8.5, 5)\n",
    "plt.rcParams[\"patch.force_edgecolor\"] = True\n",
    "pd.set_option('display.float_format', lambda x: '%.3f' % x)\n",
    "sns.mpl.rc(\"figure\", figsize=(8.5,5))\n",
    "\n",
    "\n",
    "%matplotlib inline"
   ]
  },
  {
   "cell_type": "code",
   "execution_count": 162,
   "metadata": {},
   "outputs": [],
   "source": [
    "BASEPATH = os.path.join(\"EVALUATION\")\n",
    "SAMPLE_PATH = os.path.join(\"sample_submission\")\n",
    "TRAIN_PATH = os.path.join(\"train.csv\")\n",
    "TEST_PATH = os.path.join(\"test.csv\")"
   ]
  },
  {
   "cell_type": "markdown",
   "metadata": {},
   "source": [
    "## 2. Loading files"
   ]
  },
  {
   "cell_type": "code",
   "execution_count": 113,
   "metadata": {
    "scrolled": true
   },
   "outputs": [
    {
     "data": {
      "text/html": [
       "<div>\n",
       "<style scoped>\n",
       "    .dataframe tbody tr th:only-of-type {\n",
       "        vertical-align: middle;\n",
       "    }\n",
       "\n",
       "    .dataframe tbody tr th {\n",
       "        vertical-align: top;\n",
       "    }\n",
       "\n",
       "    .dataframe thead th {\n",
       "        text-align: right;\n",
       "    }\n",
       "</style>\n",
       "<table border=\"1\" class=\"dataframe\">\n",
       "  <thead>\n",
       "    <tr style=\"text-align: right;\">\n",
       "      <th></th>\n",
       "      <th>vendor_id</th>\n",
       "      <th>pickup_datetime</th>\n",
       "      <th>dropoff_datetime</th>\n",
       "      <th>passenger_count</th>\n",
       "      <th>pickup_longitude</th>\n",
       "      <th>pickup_latitude</th>\n",
       "      <th>dropoff_longitude</th>\n",
       "      <th>dropoff_latitude</th>\n",
       "      <th>store_and_fwd_flag</th>\n",
       "      <th>trip_duration</th>\n",
       "    </tr>\n",
       "    <tr>\n",
       "      <th>id</th>\n",
       "      <th></th>\n",
       "      <th></th>\n",
       "      <th></th>\n",
       "      <th></th>\n",
       "      <th></th>\n",
       "      <th></th>\n",
       "      <th></th>\n",
       "      <th></th>\n",
       "      <th></th>\n",
       "      <th></th>\n",
       "    </tr>\n",
       "  </thead>\n",
       "  <tbody>\n",
       "    <tr>\n",
       "      <th>id2875421</th>\n",
       "      <td>2</td>\n",
       "      <td>2016-03-14 17:24:55</td>\n",
       "      <td>2016-03-14 17:32:30</td>\n",
       "      <td>1</td>\n",
       "      <td>-73.982</td>\n",
       "      <td>40.768</td>\n",
       "      <td>-73.965</td>\n",
       "      <td>40.766</td>\n",
       "      <td>N</td>\n",
       "      <td>455</td>\n",
       "    </tr>\n",
       "    <tr>\n",
       "      <th>id2377394</th>\n",
       "      <td>1</td>\n",
       "      <td>2016-06-12 00:43:35</td>\n",
       "      <td>2016-06-12 00:54:38</td>\n",
       "      <td>1</td>\n",
       "      <td>-73.980</td>\n",
       "      <td>40.739</td>\n",
       "      <td>-73.999</td>\n",
       "      <td>40.731</td>\n",
       "      <td>N</td>\n",
       "      <td>663</td>\n",
       "    </tr>\n",
       "    <tr>\n",
       "      <th>id3858529</th>\n",
       "      <td>2</td>\n",
       "      <td>2016-01-19 11:35:24</td>\n",
       "      <td>2016-01-19 12:10:48</td>\n",
       "      <td>1</td>\n",
       "      <td>-73.979</td>\n",
       "      <td>40.764</td>\n",
       "      <td>-74.005</td>\n",
       "      <td>40.710</td>\n",
       "      <td>N</td>\n",
       "      <td>2124</td>\n",
       "    </tr>\n",
       "  </tbody>\n",
       "</table>\n",
       "</div>"
      ],
      "text/plain": [
       "           vendor_id      pickup_datetime     dropoff_datetime  \\\n",
       "id                                                               \n",
       "id2875421          2  2016-03-14 17:24:55  2016-03-14 17:32:30   \n",
       "id2377394          1  2016-06-12 00:43:35  2016-06-12 00:54:38   \n",
       "id3858529          2  2016-01-19 11:35:24  2016-01-19 12:10:48   \n",
       "\n",
       "           passenger_count  pickup_longitude  pickup_latitude  \\\n",
       "id                                                              \n",
       "id2875421                1           -73.982           40.768   \n",
       "id2377394                1           -73.980           40.739   \n",
       "id3858529                1           -73.979           40.764   \n",
       "\n",
       "           dropoff_longitude  dropoff_latitude store_and_fwd_flag  \\\n",
       "id                                                                  \n",
       "id2875421            -73.965            40.766                  N   \n",
       "id2377394            -73.999            40.731                  N   \n",
       "id3858529            -74.005            40.710                  N   \n",
       "\n",
       "           trip_duration  \n",
       "id                        \n",
       "id2875421            455  \n",
       "id2377394            663  \n",
       "id3858529           2124  "
      ]
     },
     "execution_count": 113,
     "metadata": {},
     "output_type": "execute_result"
    }
   ],
   "source": [
    "train = pd.read_csv(TRAIN_PATH, index_col=0)\n",
    "test = pd.read_csv(TEST_PATH, index_col=0)\n",
    "\n",
    "train.head(3)"
   ]
  },
  {
   "cell_type": "markdown",
   "metadata": {},
   "source": [
    "##  3. DATA CLEANING & EXPLORATION"
   ]
  },
  {
   "cell_type": "markdown",
   "metadata": {},
   "source": [
    "### a. Cleaning data"
   ]
  },
  {
   "cell_type": "code",
   "execution_count": 114,
   "metadata": {},
   "outputs": [],
   "source": [
    "train.shape;"
   ]
  },
  {
   "cell_type": "code",
   "execution_count": 115,
   "metadata": {},
   "outputs": [
    {
     "data": {
      "text/html": [
       "<div>\n",
       "<style scoped>\n",
       "    .dataframe tbody tr th:only-of-type {\n",
       "        vertical-align: middle;\n",
       "    }\n",
       "\n",
       "    .dataframe tbody tr th {\n",
       "        vertical-align: top;\n",
       "    }\n",
       "\n",
       "    .dataframe thead th {\n",
       "        text-align: right;\n",
       "    }\n",
       "</style>\n",
       "<table border=\"1\" class=\"dataframe\">\n",
       "  <thead>\n",
       "    <tr style=\"text-align: right;\">\n",
       "      <th></th>\n",
       "      <th>vendor_id</th>\n",
       "      <th>passenger_count</th>\n",
       "      <th>pickup_longitude</th>\n",
       "      <th>pickup_latitude</th>\n",
       "      <th>dropoff_longitude</th>\n",
       "      <th>dropoff_latitude</th>\n",
       "      <th>trip_duration</th>\n",
       "    </tr>\n",
       "  </thead>\n",
       "  <tbody>\n",
       "    <tr>\n",
       "      <th>count</th>\n",
       "      <td>1458644.000</td>\n",
       "      <td>1458644.000</td>\n",
       "      <td>1458644.000</td>\n",
       "      <td>1458644.000</td>\n",
       "      <td>1458644.000</td>\n",
       "      <td>1458644.000</td>\n",
       "      <td>1458644.000</td>\n",
       "    </tr>\n",
       "    <tr>\n",
       "      <th>mean</th>\n",
       "      <td>1.535</td>\n",
       "      <td>1.665</td>\n",
       "      <td>-73.973</td>\n",
       "      <td>40.751</td>\n",
       "      <td>-73.973</td>\n",
       "      <td>40.752</td>\n",
       "      <td>959.492</td>\n",
       "    </tr>\n",
       "    <tr>\n",
       "      <th>std</th>\n",
       "      <td>0.499</td>\n",
       "      <td>1.314</td>\n",
       "      <td>0.071</td>\n",
       "      <td>0.033</td>\n",
       "      <td>0.071</td>\n",
       "      <td>0.036</td>\n",
       "      <td>5237.432</td>\n",
       "    </tr>\n",
       "    <tr>\n",
       "      <th>min</th>\n",
       "      <td>1.000</td>\n",
       "      <td>0.000</td>\n",
       "      <td>-121.933</td>\n",
       "      <td>34.360</td>\n",
       "      <td>-121.933</td>\n",
       "      <td>32.181</td>\n",
       "      <td>1.000</td>\n",
       "    </tr>\n",
       "    <tr>\n",
       "      <th>25%</th>\n",
       "      <td>1.000</td>\n",
       "      <td>1.000</td>\n",
       "      <td>-73.992</td>\n",
       "      <td>40.737</td>\n",
       "      <td>-73.991</td>\n",
       "      <td>40.736</td>\n",
       "      <td>397.000</td>\n",
       "    </tr>\n",
       "    <tr>\n",
       "      <th>50%</th>\n",
       "      <td>2.000</td>\n",
       "      <td>1.000</td>\n",
       "      <td>-73.982</td>\n",
       "      <td>40.754</td>\n",
       "      <td>-73.980</td>\n",
       "      <td>40.755</td>\n",
       "      <td>662.000</td>\n",
       "    </tr>\n",
       "    <tr>\n",
       "      <th>75%</th>\n",
       "      <td>2.000</td>\n",
       "      <td>2.000</td>\n",
       "      <td>-73.967</td>\n",
       "      <td>40.768</td>\n",
       "      <td>-73.963</td>\n",
       "      <td>40.770</td>\n",
       "      <td>1075.000</td>\n",
       "    </tr>\n",
       "    <tr>\n",
       "      <th>max</th>\n",
       "      <td>2.000</td>\n",
       "      <td>9.000</td>\n",
       "      <td>-61.336</td>\n",
       "      <td>51.881</td>\n",
       "      <td>-61.336</td>\n",
       "      <td>43.921</td>\n",
       "      <td>3526282.000</td>\n",
       "    </tr>\n",
       "  </tbody>\n",
       "</table>\n",
       "</div>"
      ],
      "text/plain": [
       "        vendor_id  passenger_count  pickup_longitude  pickup_latitude  \\\n",
       "count 1458644.000      1458644.000       1458644.000      1458644.000   \n",
       "mean        1.535            1.665           -73.973           40.751   \n",
       "std         0.499            1.314             0.071            0.033   \n",
       "min         1.000            0.000          -121.933           34.360   \n",
       "25%         1.000            1.000           -73.992           40.737   \n",
       "50%         2.000            1.000           -73.982           40.754   \n",
       "75%         2.000            2.000           -73.967           40.768   \n",
       "max         2.000            9.000           -61.336           51.881   \n",
       "\n",
       "       dropoff_longitude  dropoff_latitude  trip_duration  \n",
       "count        1458644.000       1458644.000    1458644.000  \n",
       "mean             -73.973            40.752        959.492  \n",
       "std                0.071             0.036       5237.432  \n",
       "min             -121.933            32.181          1.000  \n",
       "25%              -73.991            40.736        397.000  \n",
       "50%              -73.980            40.755        662.000  \n",
       "75%              -73.963            40.770       1075.000  \n",
       "max              -61.336            43.921    3526282.000  "
      ]
     },
     "execution_count": 115,
     "metadata": {},
     "output_type": "execute_result"
    }
   ],
   "source": [
    "train.describe()"
   ]
  },
  {
   "cell_type": "code",
   "execution_count": 116,
   "metadata": {},
   "outputs": [
    {
     "name": "stdout",
     "output_type": "stream",
     "text": [
      "<class 'pandas.core.frame.DataFrame'>\n",
      "Index: 1458644 entries, id2875421 to id1209952\n",
      "Data columns (total 10 columns):\n",
      "vendor_id             1458644 non-null int64\n",
      "pickup_datetime       1458644 non-null object\n",
      "dropoff_datetime      1458644 non-null object\n",
      "passenger_count       1458644 non-null int64\n",
      "pickup_longitude      1458644 non-null float64\n",
      "pickup_latitude       1458644 non-null float64\n",
      "dropoff_longitude     1458644 non-null float64\n",
      "dropoff_latitude      1458644 non-null float64\n",
      "store_and_fwd_flag    1458644 non-null object\n",
      "trip_duration         1458644 non-null int64\n",
      "dtypes: float64(4), int64(3), object(3)\n",
      "memory usage: 122.4+ MB\n"
     ]
    }
   ],
   "source": [
    "train.info()"
   ]
  },
  {
   "cell_type": "markdown",
   "metadata": {},
   "source": [
    "### missing values   "
   ]
  },
  {
   "cell_type": "code",
   "execution_count": 117,
   "metadata": {},
   "outputs": [
    {
     "data": {
      "text/plain": [
       "vendor_id             0\n",
       "pickup_datetime       0\n",
       "dropoff_datetime      0\n",
       "passenger_count       0\n",
       "pickup_longitude      0\n",
       "pickup_latitude       0\n",
       "dropoff_longitude     0\n",
       "dropoff_latitude      0\n",
       "store_and_fwd_flag    0\n",
       "trip_duration         0\n",
       "dtype: int64"
      ]
     },
     "execution_count": 117,
     "metadata": {},
     "output_type": "execute_result"
    }
   ],
   "source": [
    "#test.isna().sum()\n",
    "train.isna().sum()"
   ]
  },
  {
   "cell_type": "markdown",
   "metadata": {},
   "source": [
    "###  Outlayers   "
   ]
  },
  {
   "cell_type": "code",
   "execution_count": 118,
   "metadata": {},
   "outputs": [],
   "source": [
    "train = train[train['passenger_count']>0]\n",
    "train = train[train['passenger_count']<9]"
   ]
  },
  {
   "cell_type": "code",
   "execution_count": 119,
   "metadata": {},
   "outputs": [],
   "source": [
    "train = train[train['pickup_longitude'] <= -73.75]\n",
    "train = train[train['pickup_longitude'] >= -74.03]\n",
    "train = train[train['pickup_latitude'] <= 40.85]\n",
    "train = train[train['pickup_latitude'] >= 40.63]\n",
    "train = train[train['dropoff_longitude'] <= -73.75]\n",
    "train = train[train['dropoff_longitude'] >= -74.03]\n",
    "train = train[train['dropoff_latitude'] <= 40.85]\n",
    "train = train[train['dropoff_latitude'] >= 40.63]"
   ]
  },
  {
   "cell_type": "code",
   "execution_count": 120,
   "metadata": {},
   "outputs": [],
   "source": [
    "trip_duration_mean = np.mean(train['trip_duration'])\n",
    "trip_duration_std = np.std(train['trip_duration'])\n",
    "train = train[train['trip_duration']<=trip_duration_mean + 2*trip_duration_std]\n",
    "train = train[train['trip_duration']>= trip_duration_mean - 2*trip_duration_std]"
   ]
  },
  {
   "cell_type": "markdown",
   "metadata": {},
   "source": [
    "To have a better representation of trip duration we have to remove or substract trip duraiton whose deviation is twice greater than standard deviation."
   ]
  },
  {
   "cell_type": "markdown",
   "metadata": {},
   "source": [
    "                        \n",
    "                        \n",
    "                        \n",
    "                         "
   ]
  },
  {
   "cell_type": "markdown",
   "metadata": {},
   "source": [
    "### Data preprocessing "
   ]
  },
  {
   "cell_type": "markdown",
   "metadata": {},
   "source": [
    "###### extracting dates, by converting them from \"object\" type to \"datetime\" type"
   ]
  },
  {
   "cell_type": "code",
   "execution_count": 121,
   "metadata": {},
   "outputs": [],
   "source": [
    "train['pickup_datetime'] = pd.to_datetime(train.pickup_datetime) # Pickups\n",
    "train['dropoff_datetime'] = pd.to_datetime(train.dropoff_datetime) # Drop-offs"
   ]
  },
  {
   "cell_type": "code",
   "execution_count": 122,
   "metadata": {},
   "outputs": [],
   "source": [
    "# Delimit pickup_datetime variable \n",
    "train['pickup_date'] = train['pickup_datetime'].dt.date # Extract date\n",
    "train['pickup_time'] = train['pickup_datetime'].dt.time # Extract time\n",
    "\n",
    "# Delimit dropoff_datetime variables\n",
    "train['dropoff_date'] = train['dropoff_datetime'].dt.date # Extract date\n",
    "train['dropoff_time'] = train['dropoff_datetime'].dt.time # Extract time\n",
    "\n",
    "# Additional pickup features\n",
    "train['pickup_month'] = train['pickup_datetime'].dt.month # Extract month\n",
    "\n",
    "train['pickup_hour'] = train['pickup_datetime'].dt.hour # Extract hour\n",
    "train['pickup_weekday'] = train['pickup_datetime'].dt.dayofweek # Extract day of week"
   ]
  },
  {
   "cell_type": "markdown",
   "metadata": {},
   "source": [
    " "
   ]
  },
  {
   "cell_type": "code",
   "execution_count": null,
   "metadata": {},
   "outputs": [],
   "source": [
    "# Drop concatentated timestamp columns\n",
    "train.drop(['pickup_datetime'], axis = 1, inplace = True)\n",
    "train.drop(['dropoff_datetime'], axis = 1, inplace = True)"
   ]
  },
  {
   "cell_type": "markdown",
   "metadata": {},
   "source": [
    "                "
   ]
  },
  {
   "cell_type": "markdown",
   "metadata": {},
   "source": [
    "      \n",
    "      "
   ]
  },
  {
   "cell_type": "markdown",
   "metadata": {},
   "source": [
    "##### exctracting distance variable from longitudes and latitudes "
   ]
  },
  {
   "cell_type": "code",
   "execution_count": null,
   "metadata": {},
   "outputs": [],
   "source": [
    "train['dist_long'] = train['pickup_longitude'] - train['dropoff_longitude']\n",
    "test['dist_long'] = test['pickup_longitude'] - test['dropoff_longitude']\n",
    "\n",
    "train['dist_lat'] = train['pickup_latitude'] - train['dropoff_latitude']\n",
    "test['dist_lat'] = test['pickup_latitude'] - test['dropoff_latitude']\n",
    "\n",
    "train['dist'] = np.sqrt(np.square(train['dist_long']) + np.square(train['dist_lat']))\n",
    "test['dist'] = np.sqrt(np.square(test['dist_long']) + np.square(test['dist_lat']))"
   ]
  },
  {
   "cell_type": "markdown",
   "metadata": {},
   "source": [
    "\n",
    "    "
   ]
  },
  {
   "cell_type": "markdown",
   "metadata": {},
   "source": [
    "##### extracting spatial data"
   ]
  },
  {
   "cell_type": "code",
   "execution_count": null,
   "metadata": {},
   "outputs": [],
   "source": [
    "train['pickup_longitude'] = np.round(train['pickup_longitude'], 2)\n",
    "train['pickup_latitude'] = np.round(train['pickup_latitude'], 2)\n",
    "train['dropoff_longitude'] = np.round(train['dropoff_longitude'], 2)\n",
    "train['dropoff_latitude'] = np.round(train['dropoff_latitude'], 2)"
   ]
  },
  {
   "cell_type": "markdown",
   "metadata": {},
   "source": [
    "            "
   ]
  },
  {
   "cell_type": "markdown",
   "metadata": {},
   "source": [
    "### b. Visualization"
   ]
  },
  {
   "cell_type": "markdown",
   "metadata": {},
   "source": [
    "   "
   ]
  },
  {
   "cell_type": "code",
   "execution_count": null,
   "metadata": {},
   "outputs": [],
   "source": [
    "corr = train.corr()\n",
    "sns.heatmap(corr)"
   ]
  },
  {
   "cell_type": "code",
   "execution_count": null,
   "metadata": {},
   "outputs": [],
   "source": [
    "# Mean distribution\n",
    "mu = train['trip_duration'].mean()\n",
    "\n",
    "# Std distribution\n",
    "sigma = train['trip_duration'].std()\n",
    "num_bins = 100\n",
    "\n",
    "# Histogram \n",
    "fig = plt.figure(figsize=(8.5, 5))\n",
    "n, bins, patches = plt.hist(train['trip_duration'], num_bins, normed=1,\n",
    "                           edgecolor = 'black', lw = 1, alpha = .40)\n",
    "# Normal Distribution\n",
    "y = mlab.normpdf(bins, mu, sigma)\n",
    "plt.plot(bins, y, 'r--', linewidth=2)\n",
    "plt.xlabel('trip_duration')\n",
    "plt.ylabel('Probability density')\n",
    "\n",
    "# Adding a title\n",
    "plt.title(r'$\\mathrm{Trip\\ duration\\ skewed \\ to \\ the \\ right:}\\ \\mu=%.3f,\\ \\sigma=%.3f$'%(mu,sigma))\n",
    "plt.grid(True)\n",
    "\n",
    "#fig.tight_layout()\n",
    "plt.show()\n",
    "\n",
    "# Statistical summary\n",
    "train.describe()[['trip_duration']].transpose()"
   ]
  },
  {
   "cell_type": "markdown",
   "metadata": {},
   "source": [
    "             "
   ]
  },
  {
   "cell_type": "markdown",
   "metadata": {},
   "source": [
    "### Passenger count per trip duration"
   ]
  },
  {
   "cell_type": "code",
   "execution_count": null,
   "metadata": {},
   "outputs": [],
   "source": [
    "\n",
    "import matplotlib\n",
    "matplotlib.style.use('fivethirtyeight')\n",
    "\n",
    "# Create boxplot\n",
    "plt.figure(figsize=(8.5,5))\n",
    "passenger_graph = sns.boxplot(x = 'passenger_count', y = 'trip_duration', data = train, \n",
    "                          palette = 'gist_rainbow', linewidth = 2.3)\n",
    "\n",
    "# Customize tick size\n",
    "passenger_graph.tick_params(axis = 'both', which = 'major', labelsize = 12)\n",
    "\n",
    "\n",
    "# Customize tick labels of the y-axis\n",
    "passenger_graph.set_yticklabels(labels = [-10, '0  ', '2000  ', '4000  ', '6000  ', '8000  ', '10000  ','12000 s'])\n",
    "\n",
    "\n",
    "# Bolding horizontal line at y = 0\n",
    "passenger_graph.axhline(y = 0, color = 'black', linewidth = 1.3, alpha = .70)\n",
    "\n",
    "\n",
    "# # Adding a title and a subtitle\n",
    "passenger_graph.text(x =-1.05, y = 13800, s = \"Passenger count does not have much effect on trip duration\",\n",
    "               fontsize =15 , weight = 'bold', alpha = .90)\n",
    "passenger_graph.text(x = -1.05, y = 13000.3, \n",
    "               s = 'Median trip times remain similar despite more passengers being aboard',\n",
    "              fontsize = 14, alpha = .85)\n",
    "plt.show()\n",
    "\n"
   ]
  },
  {
   "cell_type": "markdown",
   "metadata": {},
   "source": [
    "   "
   ]
  },
  {
   "cell_type": "markdown",
   "metadata": {},
   "source": [
    "\n",
    "   "
   ]
  },
  {
   "cell_type": "markdown",
   "metadata": {},
   "source": [
    "### Trip duration in a week"
   ]
  },
  {
   "cell_type": "code",
   "execution_count": null,
   "metadata": {},
   "outputs": [],
   "source": [
    "# Trips by Hour and Day of Week\n",
    "trip_duration_median = train['trip_duration'].median()\n",
    "plt.figure(figsize=(8.5,5))\n",
    "\n",
    "pickup_hourday = train.groupby(['pickup_hour','pickup_weekday'])['trip_duration'].median().unstack()\n",
    "hourday_graph = sns.heatmap(pickup_hourday[pickup_hourday>trip_duration_median], lw = .5, annot = True, cmap = 'GnBu', fmt = 'g',annot_kws = {\"size\":10} )\n",
    "\n",
    "\n",
    "# Customize tick labels of the y-axis\n",
    "hourday_graph.set_xticklabels(labels = ['Mon', 'Tue', 'Wed','Thu','Fri','Sat','Sun'])\n",
    "\n",
    "\n",
    "# Remove the label of the x-axis\n",
    "hourday_graph.xaxis.label.set_visible(False)\n",
    "\n",
    "# # Adding a title and a subtitle\n",
    "hourday_graph.text(x =-.8, y = 27, s = \"Trip durations vary greatly depending on day of week\",\n",
    "               fontsize =20 , weight = 'bold', alpha = .90)\n",
    "\n",
    "plt.show()"
   ]
  },
  {
   "cell_type": "code",
   "execution_count": null,
   "metadata": {},
   "outputs": [],
   "source": [
    "# Box plot of pickups by month\n",
    "import matplotlib\n",
    "matplotlib.style.use('fivethirtyeight')\n",
    "\n",
    "# Create boxplot\n",
    "plt.figure(figsize=(8.5,5))\n",
    "month_graph = sns.boxplot(x = 'pickup_month', y = 'trip_duration', data = train, palette = 'gist_rainbow', linewidth = 2.3)\n",
    "\n",
    "# Remove the label of the x-axis\n",
    "month_graph.xaxis.label.set_visible(False)\n",
    "month_graph.yaxis.label.set_visible(False)\n",
    "\n",
    "month_graph.text(x =-1.05, y = 13800, s = \"Month of transaction has minimal effect on trip duration\",\n",
    "               fontsize =20 , weight = 'bold', alpha = .90)\n",
    "month_graph.text(x = -1.05, y = 13000.3, \n",
    "               s = 'Median trip times hover around ~650 seconds throughout the year',\n",
    "              fontsize = 14, alpha = .85)\n",
    "plt.show()"
   ]
  },
  {
   "cell_type": "markdown",
   "metadata": {},
   "source": [
    "       "
   ]
  },
  {
   "cell_type": "markdown",
   "metadata": {},
   "source": [
    "   "
   ]
  },
  {
   "cell_type": "markdown",
   "metadata": {},
   "source": [
    "                                           "
   ]
  },
  {
   "cell_type": "markdown",
   "metadata": {},
   "source": [
    "### 4. FEATURES ENGINEERING"
   ]
  },
  {
   "cell_type": "markdown",
   "metadata": {},
   "source": [
    "        "
   ]
  },
  {
   "cell_type": "code",
   "execution_count": null,
   "metadata": {},
   "outputs": [],
   "source": [
    "# Encoding Categoric data (converting 'store_and_fwd_flag' to numeric)\n",
    "train['store_and_fwd_flag'] = train['store_and_fwd_flag'].map({'N':0,'Y':1})"
   ]
  },
  {
   "cell_type": "code",
   "execution_count": null,
   "metadata": {},
   "outputs": [],
   "source": [
    "train.columns"
   ]
  },
  {
   "cell_type": "code",
   "execution_count": null,
   "metadata": {},
   "outputs": [],
   "source": [
    "train.drop(columns=['pickup_date','pickup_time','dropoff_date', 'dropoff_time'], axis = 1, inplace = True)"
   ]
  },
  {
   "cell_type": "markdown",
   "metadata": {},
   "source": [
    "                          "
   ]
  },
  {
   "cell_type": "markdown",
   "metadata": {},
   "source": [
    "## 4. MODELING"
   ]
  },
  {
   "cell_type": "markdown",
   "metadata": {},
   "source": [
    "  "
   ]
  },
  {
   "cell_type": "code",
   "execution_count": null,
   "metadata": {},
   "outputs": [],
   "source": [
    "X = train[['vendor_id', 'passenger_count', 'pickup_longitude',\n",
    "       'pickup_latitude', 'dropoff_longitude', 'dropoff_latitude',\n",
    "       'store_and_fwd_flag','pickup_month', 'pickup_hour',\n",
    "       'pickup_weekday']]"
   ]
  },
  {
   "cell_type": "code",
   "execution_count": null,
   "metadata": {},
   "outputs": [],
   "source": [
    "y = train['trip_duration']"
   ]
  },
  {
   "cell_type": "markdown",
   "metadata": {},
   "source": [
    "###    Train/valid spliting "
   ]
  },
  {
   "cell_type": "code",
   "execution_count": 139,
   "metadata": {},
   "outputs": [],
   "source": [
    "from sklearn.model_selection import train_test_split"
   ]
  },
  {
   "cell_type": "code",
   "execution_count": 140,
   "metadata": {},
   "outputs": [
    {
     "data": {
      "text/plain": [
       "((1149660, 10), (1149660,), (287416, 10), (287416,))"
      ]
     },
     "execution_count": 140,
     "metadata": {},
     "output_type": "execute_result"
    }
   ],
   "source": [
    "X_train, X_val, y_train, y_val = train_test_split(\n",
    "    X, y, test_size = 0.2, random_state = 0)\n",
    "X_train.shape, y_train.shape, X_val.shape, y_val.shape"
   ]
  },
  {
   "cell_type": "markdown",
   "metadata": {},
   "source": [
    "      "
   ]
  },
  {
   "cell_type": "markdown",
   "metadata": {},
   "source": [
    "### Model  selection"
   ]
  },
  {
   "cell_type": "code",
   "execution_count": 141,
   "metadata": {},
   "outputs": [],
   "source": [
    "lr = LinearRegression()"
   ]
  },
  {
   "cell_type": "markdown",
   "metadata": {},
   "source": [
    "### Model training"
   ]
  },
  {
   "cell_type": "code",
   "execution_count": 142,
   "metadata": {},
   "outputs": [
    {
     "data": {
      "text/plain": [
       "LinearRegression(copy_X=True, fit_intercept=True, n_jobs=1, normalize=False)"
      ]
     },
     "execution_count": 142,
     "metadata": {},
     "output_type": "execute_result"
    }
   ],
   "source": [
    "# Fit to training data\n",
    "lr.fit(X_train,y_train)\n"
   ]
  },
  {
   "cell_type": "markdown",
   "metadata": {},
   "source": [
    "### Making Prediction"
   ]
  },
  {
   "cell_type": "code",
   "execution_count": 144,
   "metadata": {},
   "outputs": [],
   "source": [
    "y_pred = lr.predict(X_val)"
   ]
  },
  {
   "cell_type": "markdown",
   "metadata": {},
   "source": [
    "\n"
   ]
  },
  {
   "cell_type": "markdown",
   "metadata": {},
   "source": [
    "### Scoring the model"
   ]
  },
  {
   "cell_type": "code",
   "execution_count": 145,
   "metadata": {},
   "outputs": [
    {
     "name": "stdout",
     "output_type": "stream",
     "text": [
      "\n",
      "Linear Regression Performance Metrics\n",
      "R^2= 0.23280782243342857\n",
      "MAE: 406.4232963534118\n",
      "MSE: 320045.00709366665\n",
      "RMSE: 565.7252045769807\n"
     ]
    }
   ],
   "source": [
    "# Score using \n",
    "\n",
    "from sklearn import metrics\n",
    "print('\\nLinear Regression Performance Metrics')\n",
    "print('R^2=',metrics.explained_variance_score(y_test,y_pred_lreg))\n",
    "print('MAE:',metrics.mean_absolute_error(y_test,y_pred_lreg))\n",
    "print('MSE:',metrics.mean_squared_error(y_test,y_pred_lreg))\n",
    "print('RMSE:',np.sqrt(metrics.mean_squared_error(y_test,y_pred_lreg)))"
   ]
  },
  {
   "cell_type": "code",
   "execution_count": 146,
   "metadata": {},
   "outputs": [
    {
     "name": "stdout",
     "output_type": "stream",
     "text": [
      "[0.22085569 0.22425662 0.21873627 0.22540809 0.22338808 0.223386\n",
      " 0.2259528  0.22361781 0.22627489 0.22587574]\n"
     ]
    }
   ],
   "source": [
    "lasso = linear_model.Lasso()\n",
    "cvs = cross_val_score(lasso, X, y, cv=10)\n",
    "print(cvs)"
   ]
  },
  {
   "cell_type": "code",
   "execution_count": 147,
   "metadata": {},
   "outputs": [
    {
     "data": {
      "text/plain": [
       "0.22377519850479569"
      ]
     },
     "execution_count": 147,
     "metadata": {},
     "output_type": "execute_result"
    }
   ],
   "source": [
    "np.mean(cvs)"
   ]
  },
  {
   "cell_type": "code",
   "execution_count": 148,
   "metadata": {},
   "outputs": [],
   "source": [
    "#predicted = cross_val_predict(lr, train, y, cv=10)"
   ]
  },
  {
   "cell_type": "markdown",
   "metadata": {},
   "source": [
    "         "
   ]
  },
  {
   "cell_type": "markdown",
   "metadata": {},
   "source": [
    "##  6. SUBMISSION"
   ]
  },
  {
   "cell_type": "markdown",
   "metadata": {},
   "source": [
    "             "
   ]
  },
  {
   "cell_type": "markdown",
   "metadata": {},
   "source": [
    "### Test feature settings "
   ]
  },
  {
   "cell_type": "code",
   "execution_count": 150,
   "metadata": {},
   "outputs": [],
   "source": [
    "# Convert timestamps to date objects\n",
    "test['pickup_datetime'] = pd.to_datetime(test.pickup_datetime) # Pickups\n",
    "\n",
    "# Delimit pickup_datetime variable \n",
    "test['pickup_date'] = test['pickup_datetime'].dt.date # Extract date\n",
    "test['pickup_time'] = test['pickup_datetime'].dt.time # Extract time\n",
    "\n",
    "# Additional pickup features\n",
    "test['pickup_month'] = test['pickup_datetime'].dt.month # Extract month\n",
    "\n",
    "#train_data['pickup_YYYYMM'] = train_data['pickup_datetime'].apply(lambda x: x.strftime('%Y%m')) # Extract yearmonth\n",
    "test['pickup_hour'] = test['pickup_datetime'].dt.hour # Extract hour\n",
    "test['pickup_weekday'] = test['pickup_datetime'].dt.dayofweek # Extract day of week\n",
    "\n",
    "# Encode categorical variables\n",
    "test['store_and_fwd_flag'] = test['store_and_fwd_flag'].map({'N':0,'Y':1})"
   ]
  },
  {
   "cell_type": "code",
   "execution_count": 152,
   "metadata": {},
   "outputs": [],
   "source": [
    "# Create new matrix of features from test data    \n",
    "X_test= test[['vendor_id', 'passenger_count', 'pickup_longitude',\n",
    "       'pickup_latitude', 'dropoff_longitude', 'dropoff_latitude',\n",
    "       'store_and_fwd_flag', 'pickup_month', 'pickup_hour',\n",
    "       'pickup_weekday']]"
   ]
  },
  {
   "cell_type": "code",
   "execution_count": 153,
   "metadata": {},
   "outputs": [],
   "source": [
    "test_pred = lr.predict(X_test)"
   ]
  },
  {
   "cell_type": "markdown",
   "metadata": {},
   "source": [
    "\n",
    "    \n"
   ]
  },
  {
   "cell_type": "markdown",
   "metadata": {},
   "source": [
    "\n"
   ]
  },
  {
   "cell_type": "code",
   "execution_count": 155,
   "metadata": {},
   "outputs": [
    {
     "data": {
      "text/html": [
       "<div>\n",
       "<style scoped>\n",
       "    .dataframe tbody tr th:only-of-type {\n",
       "        vertical-align: middle;\n",
       "    }\n",
       "\n",
       "    .dataframe tbody tr th {\n",
       "        vertical-align: top;\n",
       "    }\n",
       "\n",
       "    .dataframe thead th {\n",
       "        text-align: right;\n",
       "    }\n",
       "</style>\n",
       "<table border=\"1\" class=\"dataframe\">\n",
       "  <thead>\n",
       "    <tr style=\"text-align: right;\">\n",
       "      <th></th>\n",
       "      <th>vendor_id</th>\n",
       "      <th>pickup_datetime</th>\n",
       "      <th>passenger_count</th>\n",
       "      <th>pickup_longitude</th>\n",
       "      <th>pickup_latitude</th>\n",
       "      <th>dropoff_longitude</th>\n",
       "      <th>dropoff_latitude</th>\n",
       "      <th>store_and_fwd_flag</th>\n",
       "      <th>pickup_date</th>\n",
       "      <th>pickup_time</th>\n",
       "      <th>pickup_month</th>\n",
       "      <th>pickup_hour</th>\n",
       "      <th>pickup_weekday</th>\n",
       "    </tr>\n",
       "    <tr>\n",
       "      <th>id</th>\n",
       "      <th></th>\n",
       "      <th></th>\n",
       "      <th></th>\n",
       "      <th></th>\n",
       "      <th></th>\n",
       "      <th></th>\n",
       "      <th></th>\n",
       "      <th></th>\n",
       "      <th></th>\n",
       "      <th></th>\n",
       "      <th></th>\n",
       "      <th></th>\n",
       "      <th></th>\n",
       "    </tr>\n",
       "  </thead>\n",
       "  <tbody>\n",
       "    <tr>\n",
       "      <th>id3004672</th>\n",
       "      <td>1</td>\n",
       "      <td>2016-06-30 23:59:58</td>\n",
       "      <td>1</td>\n",
       "      <td>-73.988</td>\n",
       "      <td>40.732</td>\n",
       "      <td>-73.990</td>\n",
       "      <td>40.757</td>\n",
       "      <td>0</td>\n",
       "      <td>2016-06-30</td>\n",
       "      <td>23:59:58</td>\n",
       "      <td>6</td>\n",
       "      <td>23</td>\n",
       "      <td>3</td>\n",
       "    </tr>\n",
       "  </tbody>\n",
       "</table>\n",
       "</div>"
      ],
      "text/plain": [
       "           vendor_id     pickup_datetime  passenger_count  pickup_longitude  \\\n",
       "id                                                                            \n",
       "id3004672          1 2016-06-30 23:59:58                1           -73.988   \n",
       "\n",
       "           pickup_latitude  dropoff_longitude  dropoff_latitude  \\\n",
       "id                                                                \n",
       "id3004672           40.732            -73.990            40.757   \n",
       "\n",
       "           store_and_fwd_flag pickup_date pickup_time  pickup_month  \\\n",
       "id                                                                    \n",
       "id3004672                   0  2016-06-30    23:59:58             6   \n",
       "\n",
       "           pickup_hour  pickup_weekday  \n",
       "id                                      \n",
       "id3004672           23               3  "
      ]
     },
     "execution_count": 155,
     "metadata": {},
     "output_type": "execute_result"
    }
   ],
   "source": [
    "test.head(1)"
   ]
  },
  {
   "cell_type": "code",
   "execution_count": 136,
   "metadata": {},
   "outputs": [
    {
     "data": {
      "text/html": [
       "<div>\n",
       "<style scoped>\n",
       "    .dataframe tbody tr th:only-of-type {\n",
       "        vertical-align: middle;\n",
       "    }\n",
       "\n",
       "    .dataframe tbody tr th {\n",
       "        vertical-align: top;\n",
       "    }\n",
       "\n",
       "    .dataframe thead th {\n",
       "        text-align: right;\n",
       "    }\n",
       "</style>\n",
       "<table border=\"1\" class=\"dataframe\">\n",
       "  <thead>\n",
       "    <tr style=\"text-align: right;\">\n",
       "      <th></th>\n",
       "      <th>id</th>\n",
       "      <th>trip_duration</th>\n",
       "    </tr>\n",
       "  </thead>\n",
       "  <tbody>\n",
       "    <tr>\n",
       "      <th>0</th>\n",
       "      <td>id3004672</td>\n",
       "      <td>959</td>\n",
       "    </tr>\n",
       "  </tbody>\n",
       "</table>\n",
       "</div>"
      ],
      "text/plain": [
       "          id  trip_duration\n",
       "0  id3004672            959"
      ]
     },
     "execution_count": 136,
     "metadata": {},
     "output_type": "execute_result"
    }
   ],
   "source": [
    "sample_submission.head(1)"
   ]
  },
  {
   "cell_type": "code",
   "execution_count": null,
   "metadata": {},
   "outputs": [],
   "source": [
    "submission = pd.DataFrame({'id':test['id'], 'trip_duration': test_pred})\n",
    "submission.to_csv('mySubmission.csv')"
   ]
  },
  {
   "cell_type": "markdown",
   "metadata": {},
   "source": [
    "\n",
    "\n"
   ]
  }
 ],
 "metadata": {
  "kernelspec": {
   "display_name": "Python 3",
   "language": "python",
   "name": "python3"
  },
  "language_info": {
   "codemirror_mode": {
    "name": "ipython",
    "version": 3
   },
   "file_extension": ".py",
   "mimetype": "text/x-python",
   "name": "python",
   "nbconvert_exporter": "python",
   "pygments_lexer": "ipython3",
   "version": "3.7.0"
  }
 },
 "nbformat": 4,
 "nbformat_minor": 2
}
