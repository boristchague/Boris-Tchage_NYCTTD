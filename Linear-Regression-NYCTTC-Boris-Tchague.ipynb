{
 "cells": [
  {
   "cell_type": "markdown",
   "metadata": {
    "_uuid": "151e3239dc9090a5ab589060974610993a5aed1f"
   },
   "source": [
    "#                                            DATA SCIENCE "
   ]
  },
  {
   "cell_type": "markdown",
   "metadata": {
    "_uuid": "042de5146776ebf24319a1c2edf2b5009bcc7845"
   },
   "source": [
    "##  1. Importing modules"
   ]
  },
  {
   "cell_type": "code",
   "execution_count": 1,
   "metadata": {
    "_uuid": "d9a7253d315fb6a97fdb2f189b383d240bed7187"
   },
   "outputs": [],
   "source": [
    "import os \n",
    "\n",
    "import numpy as np\n",
    "import pandas as pd\n",
    "import seaborn as sns\n",
    "import matplotlib.pyplot as plt\n",
    "import sklearn\n",
    "import matplotlib.mlab as mlab\n",
    "import warnings\n",
    "warnings.filterwarnings(\"ignore\")\n",
    "\n",
    "\n",
    "from sklearn import linear_model\n",
    "from sklearn.metrics import mean_squared_error, mean_squared_error as MSE\n",
    "from sklearn.linear_model import LinearRegression, Lasso\n",
    "from sklearn.model_selection import cross_val_score, cross_val_predict\n",
    "\n",
    "\n",
    "# Settings\n",
    "import matplotlib\n",
    "matplotlib.style.use('fivethirtyeight')\n",
    "plt.rcParams['figure.figsize'] = (8.5, 5)\n",
    "plt.rcParams[\"patch.force_edgecolor\"] = True\n",
    "pd.set_option('display.float_format', lambda x: '%.3f' % x)\n",
    "sns.mpl.rc(\"figure\", figsize=(8.5,5))\n",
    "\n",
    "\n",
    "%matplotlib inline"
   ]
  },
  {
   "cell_type": "code",
   "execution_count": 3,
   "metadata": {
    "_uuid": "2396113b832baedbef92a456b98819e91bbe701a"
   },
   "outputs": [
    {
     "data": {
      "text/html": [
       "<div>\n",
       "<style scoped>\n",
       "    .dataframe tbody tr th:only-of-type {\n",
       "        vertical-align: middle;\n",
       "    }\n",
       "\n",
       "    .dataframe tbody tr th {\n",
       "        vertical-align: top;\n",
       "    }\n",
       "\n",
       "    .dataframe thead th {\n",
       "        text-align: right;\n",
       "    }\n",
       "</style>\n",
       "<table border=\"1\" class=\"dataframe\">\n",
       "  <thead>\n",
       "    <tr style=\"text-align: right;\">\n",
       "      <th></th>\n",
       "      <th>id</th>\n",
       "      <th>vendor_id</th>\n",
       "      <th>pickup_datetime</th>\n",
       "      <th>dropoff_datetime</th>\n",
       "      <th>passenger_count</th>\n",
       "      <th>pickup_longitude</th>\n",
       "      <th>pickup_latitude</th>\n",
       "      <th>dropoff_longitude</th>\n",
       "      <th>dropoff_latitude</th>\n",
       "      <th>store_and_fwd_flag</th>\n",
       "      <th>trip_duration</th>\n",
       "    </tr>\n",
       "  </thead>\n",
       "  <tbody>\n",
       "    <tr>\n",
       "      <th>0</th>\n",
       "      <td>id2875421</td>\n",
       "      <td>2</td>\n",
       "      <td>2016-03-14 17:24:55</td>\n",
       "      <td>2016-03-14 17:32:30</td>\n",
       "      <td>1</td>\n",
       "      <td>-73.982</td>\n",
       "      <td>40.768</td>\n",
       "      <td>-73.965</td>\n",
       "      <td>40.766</td>\n",
       "      <td>N</td>\n",
       "      <td>455</td>\n",
       "    </tr>\n",
       "    <tr>\n",
       "      <th>1</th>\n",
       "      <td>id2377394</td>\n",
       "      <td>1</td>\n",
       "      <td>2016-06-12 00:43:35</td>\n",
       "      <td>2016-06-12 00:54:38</td>\n",
       "      <td>1</td>\n",
       "      <td>-73.980</td>\n",
       "      <td>40.739</td>\n",
       "      <td>-73.999</td>\n",
       "      <td>40.731</td>\n",
       "      <td>N</td>\n",
       "      <td>663</td>\n",
       "    </tr>\n",
       "  </tbody>\n",
       "</table>\n",
       "</div>"
      ],
      "text/plain": [
       "          id  vendor_id      pickup_datetime     dropoff_datetime  \\\n",
       "0  id2875421          2  2016-03-14 17:24:55  2016-03-14 17:32:30   \n",
       "1  id2377394          1  2016-06-12 00:43:35  2016-06-12 00:54:38   \n",
       "\n",
       "   passenger_count  pickup_longitude  pickup_latitude  dropoff_longitude  \\\n",
       "0                1           -73.982           40.768            -73.965   \n",
       "1                1           -73.980           40.739            -73.999   \n",
       "\n",
       "   dropoff_latitude store_and_fwd_flag  trip_duration  \n",
       "0            40.766                  N            455  \n",
       "1            40.731                  N            663  "
      ]
     },
     "execution_count": 3,
     "metadata": {},
     "output_type": "execute_result"
    }
   ],
   "source": [
    "import os\n",
    "\n",
    "train = pd.read_csv ('train.csv')\n",
    "test = pd.read_csv ('test.csv')\n",
    "\n",
    "train.head(2)"
   ]
  },
  {
   "cell_type": "code",
   "execution_count": null,
   "metadata": {
    "_uuid": "4b4c99242a47ee164968c4c384e62f47f0316a6e"
   },
   "outputs": [],
   "source": []
  },
  {
   "cell_type": "markdown",
   "metadata": {
    "_uuid": "3e450e611494e07b37af6185b8f639a1abf3c10d"
   },
   "source": [
    "## 2. Loading files"
   ]
  },
  {
   "cell_type": "code",
   "execution_count": null,
   "metadata": {
    "_uuid": "b38c7cd4830598660e74f723e3efd62e55325c15",
    "scrolled": true
   },
   "outputs": [],
   "source": []
  },
  {
   "cell_type": "markdown",
   "metadata": {
    "_uuid": "91c89df0a11d676b636fd90c7ce19e390a229e5d"
   },
   "source": [
    "##  3. DATA CLEANING & EXPLORATION"
   ]
  },
  {
   "cell_type": "markdown",
   "metadata": {
    "_uuid": "d6f4b2eb47fddb0cca8ba0945cfbb53f10462bb5"
   },
   "source": [
    "### a. Cleaning data"
   ]
  },
  {
   "cell_type": "code",
   "execution_count": 4,
   "metadata": {
    "_uuid": "83812b3dabfb21e095577338a9f16ec96b4ae0f9"
   },
   "outputs": [],
   "source": [
    "train.shape;"
   ]
  },
  {
   "cell_type": "code",
   "execution_count": 5,
   "metadata": {
    "_uuid": "e3245059cd9071056a465912a40ea2894c1fcd9f"
   },
   "outputs": [
    {
     "data": {
      "text/html": [
       "<div>\n",
       "<style scoped>\n",
       "    .dataframe tbody tr th:only-of-type {\n",
       "        vertical-align: middle;\n",
       "    }\n",
       "\n",
       "    .dataframe tbody tr th {\n",
       "        vertical-align: top;\n",
       "    }\n",
       "\n",
       "    .dataframe thead th {\n",
       "        text-align: right;\n",
       "    }\n",
       "</style>\n",
       "<table border=\"1\" class=\"dataframe\">\n",
       "  <thead>\n",
       "    <tr style=\"text-align: right;\">\n",
       "      <th></th>\n",
       "      <th>vendor_id</th>\n",
       "      <th>passenger_count</th>\n",
       "      <th>pickup_longitude</th>\n",
       "      <th>pickup_latitude</th>\n",
       "      <th>dropoff_longitude</th>\n",
       "      <th>dropoff_latitude</th>\n",
       "      <th>trip_duration</th>\n",
       "    </tr>\n",
       "  </thead>\n",
       "  <tbody>\n",
       "    <tr>\n",
       "      <th>count</th>\n",
       "      <td>1458644.000</td>\n",
       "      <td>1458644.000</td>\n",
       "      <td>1458644.000</td>\n",
       "      <td>1458644.000</td>\n",
       "      <td>1458644.000</td>\n",
       "      <td>1458644.000</td>\n",
       "      <td>1458644.000</td>\n",
       "    </tr>\n",
       "    <tr>\n",
       "      <th>mean</th>\n",
       "      <td>1.535</td>\n",
       "      <td>1.665</td>\n",
       "      <td>-73.973</td>\n",
       "      <td>40.751</td>\n",
       "      <td>-73.973</td>\n",
       "      <td>40.752</td>\n",
       "      <td>959.492</td>\n",
       "    </tr>\n",
       "    <tr>\n",
       "      <th>std</th>\n",
       "      <td>0.499</td>\n",
       "      <td>1.314</td>\n",
       "      <td>0.071</td>\n",
       "      <td>0.033</td>\n",
       "      <td>0.071</td>\n",
       "      <td>0.036</td>\n",
       "      <td>5237.432</td>\n",
       "    </tr>\n",
       "    <tr>\n",
       "      <th>min</th>\n",
       "      <td>1.000</td>\n",
       "      <td>0.000</td>\n",
       "      <td>-121.933</td>\n",
       "      <td>34.360</td>\n",
       "      <td>-121.933</td>\n",
       "      <td>32.181</td>\n",
       "      <td>1.000</td>\n",
       "    </tr>\n",
       "    <tr>\n",
       "      <th>25%</th>\n",
       "      <td>1.000</td>\n",
       "      <td>1.000</td>\n",
       "      <td>-73.992</td>\n",
       "      <td>40.737</td>\n",
       "      <td>-73.991</td>\n",
       "      <td>40.736</td>\n",
       "      <td>397.000</td>\n",
       "    </tr>\n",
       "    <tr>\n",
       "      <th>50%</th>\n",
       "      <td>2.000</td>\n",
       "      <td>1.000</td>\n",
       "      <td>-73.982</td>\n",
       "      <td>40.754</td>\n",
       "      <td>-73.980</td>\n",
       "      <td>40.755</td>\n",
       "      <td>662.000</td>\n",
       "    </tr>\n",
       "    <tr>\n",
       "      <th>75%</th>\n",
       "      <td>2.000</td>\n",
       "      <td>2.000</td>\n",
       "      <td>-73.967</td>\n",
       "      <td>40.768</td>\n",
       "      <td>-73.963</td>\n",
       "      <td>40.770</td>\n",
       "      <td>1075.000</td>\n",
       "    </tr>\n",
       "    <tr>\n",
       "      <th>max</th>\n",
       "      <td>2.000</td>\n",
       "      <td>9.000</td>\n",
       "      <td>-61.336</td>\n",
       "      <td>51.881</td>\n",
       "      <td>-61.336</td>\n",
       "      <td>43.921</td>\n",
       "      <td>3526282.000</td>\n",
       "    </tr>\n",
       "  </tbody>\n",
       "</table>\n",
       "</div>"
      ],
      "text/plain": [
       "        vendor_id  passenger_count  pickup_longitude  pickup_latitude  \\\n",
       "count 1458644.000      1458644.000       1458644.000      1458644.000   \n",
       "mean        1.535            1.665           -73.973           40.751   \n",
       "std         0.499            1.314             0.071            0.033   \n",
       "min         1.000            0.000          -121.933           34.360   \n",
       "25%         1.000            1.000           -73.992           40.737   \n",
       "50%         2.000            1.000           -73.982           40.754   \n",
       "75%         2.000            2.000           -73.967           40.768   \n",
       "max         2.000            9.000           -61.336           51.881   \n",
       "\n",
       "       dropoff_longitude  dropoff_latitude  trip_duration  \n",
       "count        1458644.000       1458644.000    1458644.000  \n",
       "mean             -73.973            40.752        959.492  \n",
       "std                0.071             0.036       5237.432  \n",
       "min             -121.933            32.181          1.000  \n",
       "25%              -73.991            40.736        397.000  \n",
       "50%              -73.980            40.755        662.000  \n",
       "75%              -73.963            40.770       1075.000  \n",
       "max              -61.336            43.921    3526282.000  "
      ]
     },
     "execution_count": 5,
     "metadata": {},
     "output_type": "execute_result"
    }
   ],
   "source": [
    "train.describe()"
   ]
  },
  {
   "cell_type": "code",
   "execution_count": 6,
   "metadata": {
    "_uuid": "087fd7ca88d89e1ee9d257cae897bc1247ec8fc5"
   },
   "outputs": [
    {
     "name": "stdout",
     "output_type": "stream",
     "text": [
      "<class 'pandas.core.frame.DataFrame'>\n",
      "RangeIndex: 1458644 entries, 0 to 1458643\n",
      "Data columns (total 11 columns):\n",
      "id                    1458644 non-null object\n",
      "vendor_id             1458644 non-null int64\n",
      "pickup_datetime       1458644 non-null object\n",
      "dropoff_datetime      1458644 non-null object\n",
      "passenger_count       1458644 non-null int64\n",
      "pickup_longitude      1458644 non-null float64\n",
      "pickup_latitude       1458644 non-null float64\n",
      "dropoff_longitude     1458644 non-null float64\n",
      "dropoff_latitude      1458644 non-null float64\n",
      "store_and_fwd_flag    1458644 non-null object\n",
      "trip_duration         1458644 non-null int64\n",
      "dtypes: float64(4), int64(3), object(4)\n",
      "memory usage: 122.4+ MB\n"
     ]
    }
   ],
   "source": [
    "train.info()"
   ]
  },
  {
   "cell_type": "markdown",
   "metadata": {
    "_uuid": "33c2dfec5de51919018df81e2627f6a4a82db5a0"
   },
   "source": [
    "### missing values   "
   ]
  },
  {
   "cell_type": "code",
   "execution_count": 7,
   "metadata": {
    "_uuid": "8f82c0e0dd0592146f7c15422626cbeb6ba3e5a6"
   },
   "outputs": [
    {
     "data": {
      "text/plain": [
       "id                    0\n",
       "vendor_id             0\n",
       "pickup_datetime       0\n",
       "dropoff_datetime      0\n",
       "passenger_count       0\n",
       "pickup_longitude      0\n",
       "pickup_latitude       0\n",
       "dropoff_longitude     0\n",
       "dropoff_latitude      0\n",
       "store_and_fwd_flag    0\n",
       "trip_duration         0\n",
       "dtype: int64"
      ]
     },
     "execution_count": 7,
     "metadata": {},
     "output_type": "execute_result"
    }
   ],
   "source": [
    "#test.isna().sum()\n",
    "train.isna().sum()"
   ]
  },
  {
   "cell_type": "markdown",
   "metadata": {
    "_uuid": "034409a59f13fc2cd94345ab6c2d72fe72b023d1"
   },
   "source": [
    "###  Outlayers   "
   ]
  },
  {
   "cell_type": "code",
   "execution_count": 8,
   "metadata": {
    "_uuid": "6759f8e0329e5f1492d5707a68cedd1413cb8aa4"
   },
   "outputs": [],
   "source": [
    "train = train[train['passenger_count']>0]\n",
    "train = train[train['passenger_count']<9]"
   ]
  },
  {
   "cell_type": "code",
   "execution_count": 9,
   "metadata": {
    "_uuid": "b91c2339f4c1ccf72e139e027c0f4e3e5d50d0a2"
   },
   "outputs": [],
   "source": [
    "train = train[train['pickup_longitude'] <= -73.75]\n",
    "train = train[train['pickup_longitude'] >= -74.03]\n",
    "train = train[train['pickup_latitude'] <= 40.85]\n",
    "train = train[train['pickup_latitude'] >= 40.63]\n",
    "train = train[train['dropoff_longitude'] <= -73.75]\n",
    "train = train[train['dropoff_longitude'] >= -74.03]\n",
    "train = train[train['dropoff_latitude'] <= 40.85]\n",
    "train = train[train['dropoff_latitude'] >= 40.63]"
   ]
  },
  {
   "cell_type": "code",
   "execution_count": 10,
   "metadata": {
    "_uuid": "b5e205906a4f60f7bb59d01813351f6f8d390215"
   },
   "outputs": [],
   "source": [
    "trip_duration_mean = np.mean(train['trip_duration'])\n",
    "trip_duration_std = np.std(train['trip_duration'])\n",
    "train = train[train['trip_duration']<=trip_duration_mean + 2*trip_duration_std]\n",
    "train = train[train['trip_duration']>= trip_duration_mean - 2*trip_duration_std]"
   ]
  },
  {
   "cell_type": "markdown",
   "metadata": {
    "_uuid": "62c6f0bf203a897b5a8234647b0d72947f439c5f"
   },
   "source": [
    "To have a better representation of trip duration we have to remove or substract trip duraiton whose deviation is twice greater than standard deviation."
   ]
  },
  {
   "cell_type": "markdown",
   "metadata": {
    "_uuid": "11f9c4f51ed93bbdc54b5f1a5294f9372d6d62ff"
   },
   "source": [
    "                        \n",
    "                        \n",
    "                        \n",
    "                         "
   ]
  },
  {
   "cell_type": "markdown",
   "metadata": {
    "_uuid": "dad82e9fc195fafd03a5539b83eab48f4a22b8b4"
   },
   "source": [
    "### Data preprocessing "
   ]
  },
  {
   "cell_type": "markdown",
   "metadata": {
    "_uuid": "92e2693bc971f5b0b0a51a75cf560558723553da"
   },
   "source": [
    "###### extracting dates, by converting them from \"object\" type to \"datetime\" type"
   ]
  },
  {
   "cell_type": "code",
   "execution_count": 11,
   "metadata": {
    "_uuid": "ba17254c63824e5c7f3e2478b241faa2c522a8bc"
   },
   "outputs": [],
   "source": [
    "train['pickup_datetime'] = pd.to_datetime(train.pickup_datetime) # Pickups\n",
    "train['dropoff_datetime'] = pd.to_datetime(train.dropoff_datetime) # Drop-offs"
   ]
  },
  {
   "cell_type": "code",
   "execution_count": 12,
   "metadata": {
    "_uuid": "6cca21a937a6bbba0eb528ba10a6ecc5f911487e"
   },
   "outputs": [],
   "source": [
    "# Delimit pickup_datetime variable \n",
    "train['pickup_date'] = train['pickup_datetime'].dt.date # Extract date\n",
    "train['pickup_time'] = train['pickup_datetime'].dt.time # Extract time\n",
    "\n",
    "# Delimit dropoff_datetime variables\n",
    "train['dropoff_date'] = train['dropoff_datetime'].dt.date # Extract date\n",
    "train['dropoff_time'] = train['dropoff_datetime'].dt.time # Extract time\n",
    "\n",
    "# Additional pickup features\n",
    "train['pickup_month'] = train['pickup_datetime'].dt.month # Extract month\n",
    "\n",
    "train['pickup_hour'] = train['pickup_datetime'].dt.hour # Extract hour\n",
    "train['pickup_weekday'] = train['pickup_datetime'].dt.dayofweek # Extract day of week"
   ]
  },
  {
   "cell_type": "markdown",
   "metadata": {
    "_uuid": "a044072644ac337813d745a6f6594a23aa864ac3"
   },
   "source": [
    " "
   ]
  },
  {
   "cell_type": "code",
   "execution_count": 13,
   "metadata": {
    "_uuid": "9e9fa514985c744f85a1eb7125358cfdabbb03fb"
   },
   "outputs": [],
   "source": [
    "# Drop concatentated timestamp columns\n",
    "train.drop(['pickup_datetime'], axis = 1, inplace = True)\n",
    "train.drop(['dropoff_datetime'], axis = 1, inplace = True)"
   ]
  },
  {
   "cell_type": "markdown",
   "metadata": {
    "_uuid": "5313b512937c83d2b059f0ea4df2ab23dcd1ed8e"
   },
   "source": [
    "                "
   ]
  },
  {
   "cell_type": "markdown",
   "metadata": {
    "_uuid": "c385e7a532801c19e3dd0aa25326696e793ce487"
   },
   "source": [
    "      \n",
    "      "
   ]
  },
  {
   "cell_type": "markdown",
   "metadata": {
    "_uuid": "6717c2100dbd8fe3c595a26cb3f95b01099f61c7"
   },
   "source": [
    "##### exctracting distance variable from longitudes and latitudes "
   ]
  },
  {
   "cell_type": "code",
   "execution_count": 14,
   "metadata": {
    "_uuid": "b2ce1e39bace28bf516713f853fc9e676293d571"
   },
   "outputs": [],
   "source": [
    "train['dist_long'] = train['pickup_longitude'] - train['dropoff_longitude']\n",
    "test['dist_long'] = test['pickup_longitude'] - test['dropoff_longitude']\n",
    "\n",
    "train['dist_lat'] = train['pickup_latitude'] - train['dropoff_latitude']\n",
    "test['dist_lat'] = test['pickup_latitude'] - test['dropoff_latitude']\n",
    "\n",
    "train['dist'] = np.sqrt(np.square(train['dist_long']) + np.square(train['dist_lat']))\n",
    "test['dist'] = np.sqrt(np.square(test['dist_long']) + np.square(test['dist_lat']))"
   ]
  },
  {
   "cell_type": "markdown",
   "metadata": {
    "_uuid": "58eef9dbbd930934109d152210702b57305e5d5f"
   },
   "source": [
    "\n",
    "    "
   ]
  },
  {
   "cell_type": "markdown",
   "metadata": {
    "_uuid": "d6eccdb170b1b11b36ef24a939a4cf296f4dbc6f"
   },
   "source": [
    "##### extracting spatial data"
   ]
  },
  {
   "cell_type": "code",
   "execution_count": 15,
   "metadata": {
    "_uuid": "5531dbacba2bc0c64f5a78c5de1f479303acb8dd"
   },
   "outputs": [],
   "source": [
    "train['pickup_longitude'] = np.round(train['pickup_longitude'], 2)\n",
    "train['pickup_latitude'] = np.round(train['pickup_latitude'], 2)\n",
    "train['dropoff_longitude'] = np.round(train['dropoff_longitude'], 2)\n",
    "train['dropoff_latitude'] = np.round(train['dropoff_latitude'], 2)"
   ]
  },
  {
   "cell_type": "markdown",
   "metadata": {
    "_uuid": "b6246d5648b8d9ca5bdbd8fb213795f4b9b29605"
   },
   "source": [
    "            "
   ]
  },
  {
   "cell_type": "markdown",
   "metadata": {
    "_uuid": "2f46ffa1ad50a8752f099138f2ec742349eec6d2"
   },
   "source": [
    "## **b. Visualization**"
   ]
  },
  {
   "cell_type": "markdown",
   "metadata": {
    "_uuid": "b4e91f2130ab0c6f9aee5fa7f25c3ca8010dc145"
   },
   "source": [
    "   "
   ]
  },
  {
   "cell_type": "code",
   "execution_count": 16,
   "metadata": {
    "_uuid": "504e85747b810d829ab7366655db629caee4cb38"
   },
   "outputs": [
    {
     "data": {
      "image/png": "[encoded data removed]",
      "text/plain": [
       "<Figure size 432x288 with 2 Axes>"
      ]
     },
     "metadata": {
      "needs_background": "light"
     },
     "output_type": "display_data"
    }
   ],
   "source": [
    "corr = train.corr()\n",
    "sns.heatmap(corr);"
   ]
  },
  {
   "cell_type": "code",
   "execution_count": 17,
   "metadata": {
    "_uuid": "63949e21bf323ae92c530303255401776f089052"
   },
   "outputs": [
    {
     "data": {
      "image/png": "[encoded data removed]",
      "text/plain": [
       "<Figure size 612x360 with 1 Axes>"
      ]
     },
     "metadata": {
      "needs_background": "light"
     },
     "output_type": "display_data"
    }
   ],
   "source": [
    "# Mean distribution\n",
    "mu = train['trip_duration'].mean()\n",
    "\n",
    "# Std distribution\n",
    "sigma = train['trip_duration'].std()\n",
    "num_bins = 100\n",
    "\n",
    "# Histogram \n",
    "fig = plt.figure(figsize=(8.5, 5))\n",
    "n, bins, patches = plt.hist(train['trip_duration'], num_bins, normed=1,\n",
    "                           edgecolor = 'black', lw = 1, alpha = .40)\n",
    "# Normal Distribution\n",
    "y = mlab.normpdf(bins, mu, sigma)\n",
    "plt.plot(bins, y, 'r--', linewidth=2)\n",
    "plt.xlabel('trip_duration')\n",
    "plt.ylabel('Probability density')\n",
    "\n",
    "# Adding a title\n",
    "plt.title(r'$\\mathrm{Trip\\ duration\\ skewed \\ to \\ the \\ right:}\\ \\mu=%.3f,\\ \\sigma=%.3f$'%(mu,sigma))\n",
    "plt.grid(True)\n",
    "#fig.tight_layout()\n",
    "plt.show();\n",
    "\n"
   ]
  },
  {
   "cell_type": "markdown",
   "metadata": {
    "_uuid": "f081ef392980134239c8e4c237504cca1baf1795"
   },
   "source": [
    "             "
   ]
  },
  {
   "cell_type": "markdown",
   "metadata": {
    "_uuid": "57d434341d7223fe9a0a7229a047356a26b8afda"
   },
   "source": [
    "### Passenger count per trip duration"
   ]
  },
  {
   "cell_type": "code",
   "execution_count": 18,
   "metadata": {
    "_uuid": "528f28ece9665ff0c64a09befee3fa1de3d94645"
   },
   "outputs": [
    {
     "data": {
      "image/png": "[encoded data removed]",
      "text/plain": [
       "<Figure size 612x360 with 1 Axes>"
      ]
     },
     "metadata": {},
     "output_type": "display_data"
    }
   ],
   "source": [
    "\n",
    "import matplotlib\n",
    "matplotlib.style.use('fivethirtyeight')\n",
    "\n",
    "# Create boxplot\n",
    "plt.figure(figsize=(8.5,5))\n",
    "passenger_graph = sns.boxplot(x = 'passenger_count', y = 'trip_duration', data = train, \n",
    "                          palette = 'gist_rainbow', linewidth = 2.3)\n",
    "\n",
    "# Customize tick size\n",
    "passenger_graph.tick_params(axis = 'both', which = 'major', labelsize = 12)\n",
    "\n",
    "\n",
    "# Customize tick labels of the y-axis\n",
    "passenger_graph.set_yticklabels(labels = [-10, '0  ', '2000  ', '4000  ', '6000  ', '8000  ', '10000  ','12000 s'])\n",
    "\n",
    "\n",
    "# Bolding horizontal line at y = 0\n",
    "passenger_graph.axhline(y = 0, color = 'black', linewidth = 1.3, alpha = .70)\n",
    "\n",
    "\n",
    "# # Adding a title and a subtitle\n",
    "passenger_graph.text(x =-1.05, y = 13800, s = \"Passenger count does not have much effect on trip duration\",\n",
    "               fontsize =15 , weight = 'bold', alpha = .90)\n",
    "passenger_graph.text(x = -1.05, y = 13000.3, \n",
    "               s = 'Median trip times remain similar despite more passengers being aboard',\n",
    "              fontsize = 14, alpha = .85)\n",
    "plt.show()\n",
    "\n"
   ]
  },
  {
   "cell_type": "markdown",
   "metadata": {
    "_uuid": "e930a3c71b4732b1699ee6fff26488630cfb3137"
   },
   "source": [
    "   "
   ]
  },
  {
   "cell_type": "markdown",
   "metadata": {
    "_uuid": "763167b70605a1d9df84c355e9722449dd6f4096"
   },
   "source": [
    "\n",
    "   "
   ]
  },
  {
   "cell_type": "markdown",
   "metadata": {
    "_uuid": "0f59536a4a7a76223c6bbab7837c9dbcf19ce0dc"
   },
   "source": [
    "### Trip duration in a week"
   ]
  },
  {
   "cell_type": "code",
   "execution_count": 19,
   "metadata": {
    "_uuid": "4bea37554d18e1519ee8be0d90c04b6f66f2964b"
   },
   "outputs": [
    {
     "data": {
      "image/png": "[encoded data removed]",
      "text/plain": [
       "<Figure size 612x360 with 2 Axes>"
      ]
     },
     "metadata": {},
     "output_type": "display_data"
    }
   ],
   "source": [
    "# Trips by Hour and Day of Week\n",
    "trip_duration_median = train['trip_duration'].median()\n",
    "plt.figure(figsize=(8.5,5))\n",
    "\n",
    "pickup_hourday = train.groupby(['pickup_hour','pickup_weekday'])['trip_duration'].median().unstack()\n",
    "hourday_graph = sns.heatmap(pickup_hourday[pickup_hourday>trip_duration_median], lw = .5, annot = True, cmap = 'GnBu', fmt = 'g',annot_kws = {\"size\":10} )\n",
    "\n",
    "\n",
    "# Customize tick labels of the y-axis\n",
    "hourday_graph.set_xticklabels(labels = ['Mon', 'Tue', 'Wed','Thu','Fri','Sat','Sun'])\n",
    "\n",
    "\n",
    "# Remove the label of the x-axis\n",
    "hourday_graph.xaxis.label.set_visible(False)\n",
    "\n",
    "# # Adding a title and a subtitle\n",
    "hourday_graph.text(x =-.8, y = 27, s = \"Trip durations vary greatly depending on day of week\",\n",
    "               fontsize =20 , weight = 'bold', alpha = .90)\n",
    "\n",
    "plt.show()"
   ]
  },
  {
   "cell_type": "code",
   "execution_count": 20,
   "metadata": {
    "_uuid": "353f23fa7c56ce42847bbc672b1455ed6459166e"
   },
   "outputs": [
    {
     "data": {
      "image/png": "[encoded data removed]",
      "text/plain": [
       "<Figure size 612x360 with 1 Axes>"
      ]
     },
     "metadata": {},
     "output_type": "display_data"
    }
   ],
   "source": [
    "# Box plot of pickups by month\n",
    "import matplotlib\n",
    "matplotlib.style.use('fivethirtyeight')\n",
    "\n",
    "# Create boxplot\n",
    "plt.figure(figsize=(8.5,5))\n",
    "month_graph = sns.boxplot(x = 'pickup_month', y = 'trip_duration', data = train, palette = 'gist_rainbow', linewidth = 2.3)\n",
    "\n",
    "# Remove the label of the x-axis\n",
    "month_graph.xaxis.label.set_visible(False)\n",
    "month_graph.yaxis.label.set_visible(False)\n",
    "\n",
    "month_graph.text(x =-1.05, y = 13800, s = \"Month of transaction has minimal effect on trip duration\",\n",
    "               fontsize =20 , weight = 'bold', alpha = .90)\n",
    "month_graph.text(x = -1.05, y = 13000.3, \n",
    "               s = 'Median trip times hover around ~650 seconds throughout the year',\n",
    "              fontsize = 14, alpha = .85)\n",
    "plt.show()"
   ]
  },
  {
   "cell_type": "markdown",
   "metadata": {
    "_uuid": "8bfd83f0fc5876c870ac393e2b68fadfa649c15d"
   },
   "source": [
    "       "
   ]
  },
  {
   "cell_type": "markdown",
   "metadata": {
    "_uuid": "5f13ef9538dd0ecdda24a8abc783132a002746d2"
   },
   "source": [
    "   "
   ]
  },
  {
   "cell_type": "markdown",
   "metadata": {
    "_uuid": "9f4cb26a48e616a88f08249b46ebc364978bdf01"
   },
   "source": [
    "                                           "
   ]
  },
  {
   "cell_type": "markdown",
   "metadata": {
    "_uuid": "867519e71f20abbc64bf2da85b68389a7569e49d"
   },
   "source": [
    "### 4. FEATURES ENGINEERING"
   ]
  },
  {
   "cell_type": "markdown",
   "metadata": {
    "_uuid": "bf05ec997bba63c85661ea1710eccee1edbdd780"
   },
   "source": [
    "        "
   ]
  },
  {
   "cell_type": "code",
   "execution_count": 21,
   "metadata": {
    "_uuid": "d2c9659fa9ae5eb0958c47166bb19ce2607d162b"
   },
   "outputs": [],
   "source": [
    "# Encoding Categoric data (converting 'store_and_fwd_flag' to numeric)\n",
    "train['store_and_fwd_flag'] = train['store_and_fwd_flag'].map({'N':0,'Y':1})"
   ]
  },
  {
   "cell_type": "code",
   "execution_count": 22,
   "metadata": {
    "_uuid": "37ec90a56348a713f25ec9cacec8fb7e24641de4"
   },
   "outputs": [
    {
     "data": {
      "text/plain": [
       "Index(['id', 'vendor_id', 'passenger_count', 'pickup_longitude',\n",
       "       'pickup_latitude', 'dropoff_longitude', 'dropoff_latitude',\n",
       "       'store_and_fwd_flag', 'trip_duration', 'pickup_date', 'pickup_time',\n",
       "       'dropoff_date', 'dropoff_time', 'pickup_month', 'pickup_hour',\n",
       "       'pickup_weekday', 'dist_long', 'dist_lat', 'dist'],\n",
       "      dtype='object')"
      ]
     },
     "execution_count": 22,
     "metadata": {},
     "output_type": "execute_result"
    }
   ],
   "source": [
    "train.columns"
   ]
  },
  {
   "cell_type": "code",
   "execution_count": 23,
   "metadata": {
    "_uuid": "fbb81c7d036704bea818b4ccd57023d811d4529e"
   },
   "outputs": [],
   "source": [
    "train.drop(columns=['pickup_date','pickup_time','dropoff_date', 'dropoff_time'], axis = 1, inplace = True)"
   ]
  },
  {
   "cell_type": "markdown",
   "metadata": {
    "_uuid": "bd0b84d68bb9a9eafa7113f9e645b05166423bc3"
   },
   "source": [
    "                          "
   ]
  },
  {
   "cell_type": "markdown",
   "metadata": {
    "_uuid": "3216fb8a9507e599e23cc690431d6de051e47911"
   },
   "source": [
    "## 4. MODELING"
   ]
  },
  {
   "cell_type": "markdown",
   "metadata": {
    "_uuid": "66868c025ef1f0e62325b1d77a5237a7554d2982"
   },
   "source": [
    "  "
   ]
  },
  {
   "cell_type": "code",
   "execution_count": 24,
   "metadata": {
    "_uuid": "f7ff56765dcf26eda11793fadd63289d27ff5c3c"
   },
   "outputs": [],
   "source": [
    "X = train[['vendor_id', 'passenger_count', 'pickup_longitude',\n",
    "       'pickup_latitude', 'dropoff_longitude', 'dropoff_latitude',\n",
    "       'store_and_fwd_flag','pickup_month', 'pickup_hour',\n",
    "       'pickup_weekday']]"
   ]
  },
  {
   "cell_type": "code",
   "execution_count": 25,
   "metadata": {
    "_uuid": "0f0c54110547c8fbf9e328e6e7d6d68100f36450"
   },
   "outputs": [],
   "source": [
    "y = train['trip_duration']"
   ]
  },
  {
   "cell_type": "markdown",
   "metadata": {
    "_uuid": "65c90abb3675c604c7b1ceced64e4d781f845231"
   },
   "source": [
    "###    Train/valid spliting "
   ]
  },
  {
   "cell_type": "code",
   "execution_count": 26,
   "metadata": {
    "_uuid": "9186ffe45ab55fe72e9b47de8a7e0c79f6c4b065"
   },
   "outputs": [],
   "source": [
    "from sklearn.model_selection import train_test_split"
   ]
  },
  {
   "cell_type": "code",
   "execution_count": 27,
   "metadata": {
    "_uuid": "5f1171bdb211fe3ce47ef56024e8badf0b22b00a"
   },
   "outputs": [
    {
     "data": {
      "text/plain": [
       "((1149660, 10), (1149660,), (287416, 10), (287416,))"
      ]
     },
     "execution_count": 27,
     "metadata": {},
     "output_type": "execute_result"
    }
   ],
   "source": [
    "X_train, X_val, y_train, y_val = train_test_split(\n",
    "    X, y, test_size = 0.2, random_state = 0)\n",
    "X_train.shape, y_train.shape, X_val.shape, y_val.shape"
   ]
  },
  {
   "cell_type": "markdown",
   "metadata": {
    "_uuid": "b1cbc7062cab05097fe53f2a4e19a7c28ca06c8d"
   },
   "source": [
    "      "
   ]
  },
  {
   "cell_type": "markdown",
   "metadata": {
    "_uuid": "d6d713a0f59c178398e5e55a7411e87f49d26699"
   },
   "source": [
    "### Model  selection"
   ]
  },
  {
   "cell_type": "code",
   "execution_count": 28,
   "metadata": {
    "_uuid": "3e70bda332c54162f95206646089a6fd66429b68"
   },
   "outputs": [],
   "source": [
    "lr = LinearRegression()"
   ]
  },
  {
   "cell_type": "markdown",
   "metadata": {
    "_uuid": "30d3cd0e0139a91a58e281b91c10625804626a50"
   },
   "source": [
    "### Model training"
   ]
  },
  {
   "cell_type": "code",
   "execution_count": 29,
   "metadata": {
    "_uuid": "6e3db4176ac25430c50f1853de17c5c3d5bb0c27"
   },
   "outputs": [
    {
     "data": {
      "text/plain": [
       "LinearRegression(copy_X=True, fit_intercept=True, n_jobs=1, normalize=False)"
      ]
     },
     "execution_count": 29,
     "metadata": {},
     "output_type": "execute_result"
    }
   ],
   "source": [
    "# Fit to training data\n",
    "lr.fit(X_train,y_train)\n"
   ]
  },
  {
   "cell_type": "markdown",
   "metadata": {
    "_uuid": "4105b8e29a803459d266fef07b9e0ce431dc2ae7"
   },
   "source": [
    "### Making Prediction"
   ]
  },
  {
   "cell_type": "code",
   "execution_count": 30,
   "metadata": {
    "_uuid": "83099bbafe4029720b52e6bbb5a7a6d1b494b771"
   },
   "outputs": [
    {
     "name": "stdout",
     "output_type": "stream",
     "text": [
      "[826.29655541 532.96094989 896.15811564 ... 839.63010995 630.78138744\n",
      " 755.77954219]\n"
     ]
    }
   ],
   "source": [
    "y_pred = lr.predict(X_val)\n",
    "print(y_pred)"
   ]
  },
  {
   "cell_type": "markdown",
   "metadata": {
    "_uuid": "f5cf4e6bec6bd9577503cc1f6ca407180485c3bf"
   },
   "source": [
    "\n"
   ]
  },
  {
   "cell_type": "markdown",
   "metadata": {
    "_uuid": "88de89ac6f671ee9aef92fa464adc1d1c681f9ef"
   },
   "source": [
    "### Scoring the model"
   ]
  },
  {
   "cell_type": "code",
   "execution_count": 31,
   "metadata": {
    "_uuid": "0284b5d36295ee26bba15a4b613c8c6359c3aeff"
   },
   "outputs": [
    {
     "name": "stdout",
     "output_type": "stream",
     "text": [
      "\n",
      "Linear Regression Performance Metrics\n",
      "R^2= 0.23280782243342857\n",
      "MAE: 406.4232963534118\n",
      "MSE: 320045.00709366665\n",
      "RMSE: 565.7252045769807\n"
     ]
    }
   ],
   "source": [
    "# Score using \n",
    "\n",
    "from sklearn import metrics\n",
    "print('\\nLinear Regression Performance Metrics')\n",
    "print('R^2=',metrics.explained_variance_score(y_val,y_pred))\n",
    "print('MAE:',metrics.mean_absolute_error(y_val,y_pred))\n",
    "print('MSE:',metrics.mean_squared_error(y_val,y_pred))\n",
    "print('RMSE:',np.sqrt(metrics.mean_squared_error(y_val,y_pred)))"
   ]
  },
  {
   "cell_type": "code",
   "execution_count": 32,
   "metadata": {
    "_uuid": "cb2d84d432d9288f9bca40501a02fee1fecc5f50"
   },
   "outputs": [
    {
     "name": "stdout",
     "output_type": "stream",
     "text": [
      "[0.21724806 0.22439289 0.22606327 0.22251941 0.22036198 0.21706228\n",
      " 0.22789603 0.22299006 0.21794316 0.22873346 0.22471899 0.22200648\n",
      " 0.22676283 0.22515456 0.21964548 0.22753072 0.22538305 0.22706017\n",
      " 0.22847525 0.22335491]\n"
     ]
    }
   ],
   "source": [
    "lasso = linear_model.Lasso()\n",
    "cvs = cross_val_score(lasso, X, y, cv=20)\n",
    "print(cvs)"
   ]
  },
  {
   "cell_type": "code",
   "execution_count": 33,
   "metadata": {
    "_uuid": "5c74b5d28a5d9f5931d72f2a2ce345648ade67be"
   },
   "outputs": [
    {
     "data": {
      "text/plain": [
       "0.22376515215078455"
      ]
     },
     "execution_count": 33,
     "metadata": {},
     "output_type": "execute_result"
    }
   ],
   "source": [
    "np.mean(cvs)"
   ]
  },
  {
   "cell_type": "code",
   "execution_count": 34,
   "metadata": {
    "_uuid": "d9bbf86ec84180c1ed5e0ca7982252dc3925c7d6"
   },
   "outputs": [],
   "source": [
    "#predicted = cross_val_predict(lr, train, y, cv=10)"
   ]
  },
  {
   "cell_type": "markdown",
   "metadata": {
    "_uuid": "9ea3d4b499dbbe24cb9fe5b9115eb139464abb0e"
   },
   "source": [
    "         "
   ]
  },
  {
   "cell_type": "markdown",
   "metadata": {
    "_uuid": "8dbac325a18deece2403fc31de46968e157cbf37"
   },
   "source": [
    "##  6. SUBMISSION"
   ]
  },
  {
   "cell_type": "markdown",
   "metadata": {
    "_uuid": "3f5308a079e01ded33b4b60c814e578d41e1bb33"
   },
   "source": [
    "             "
   ]
  },
  {
   "cell_type": "markdown",
   "metadata": {
    "_uuid": "deadf33a8c4a1e6b572bf356213d5d980eaf3a45"
   },
   "source": [
    "### Test feature settings "
   ]
  },
  {
   "cell_type": "code",
   "execution_count": 35,
   "metadata": {
    "_uuid": "ab8f00a7ee38fc3bf81734a3783ec82ae2891ecf"
   },
   "outputs": [],
   "source": [
    "# Convert timestamps to date objects\n",
    "test['pickup_datetime'] = pd.to_datetime(test.pickup_datetime) # Pickups\n",
    "\n",
    "# Delimit pickup_datetime variable \n",
    "test['pickup_date'] = test['pickup_datetime'].dt.date # Extract date\n",
    "test['pickup_time'] = test['pickup_datetime'].dt.time # Extract time\n",
    "\n",
    "# Additional pickup features\n",
    "test['pickup_month'] = test['pickup_datetime'].dt.month # Extract month\n",
    "\n",
    "#train_data['pickup_YYYYMM'] = train_data['pickup_datetime'].apply(lambda x: x.strftime('%Y%m')) # Extract yearmonth\n",
    "test['pickup_hour'] = test['pickup_datetime'].dt.hour # Extract hour\n",
    "test['pickup_weekday'] = test['pickup_datetime'].dt.dayofweek # Extract day of week\n",
    "\n",
    "# Encode categorical variables\n",
    "test['store_and_fwd_flag'] = test['store_and_fwd_flag'].map({'N':0,'Y':1})"
   ]
  },
  {
   "cell_type": "code",
   "execution_count": 36,
   "metadata": {
    "_uuid": "d318c7b849a98ee118884c214d71d434a0adbc1d"
   },
   "outputs": [],
   "source": [
    "# Create new matrix of features from test data    \n",
    "X_test= test[['vendor_id', 'passenger_count', 'pickup_longitude',\n",
    "       'pickup_latitude', 'dropoff_longitude', 'dropoff_latitude',\n",
    "       'store_and_fwd_flag', 'pickup_month', 'pickup_hour',\n",
    "       'pickup_weekday']]"
   ]
  },
  {
   "cell_type": "code",
   "execution_count": 37,
   "metadata": {
    "_uuid": "f4df1d3dfd83f3f13b5c8a33b9ab9523162f7284"
   },
   "outputs": [],
   "source": [
    "test_pred = lr.predict(X_test)"
   ]
  },
  {
   "cell_type": "markdown",
   "metadata": {
    "_uuid": "8986de7d500d1e322847f9fac9765384ab39be4d"
   },
   "source": [
    "\n",
    "    \n"
   ]
  },
  {
   "cell_type": "markdown",
   "metadata": {
    "_uuid": "77b9f9233e52ccd4b16cb31de627a4a48a3b42b0"
   },
   "source": [
    "\n"
   ]
  },
  {
   "cell_type": "code",
   "execution_count": 38,
   "metadata": {
    "_uuid": "505e619c8e2c8eb25b120200711f0976a484bf83"
   },
   "outputs": [
    {
     "data": {
      "text/html": [
       "<div>\n",
       "<style scoped>\n",
       "    .dataframe tbody tr th:only-of-type {\n",
       "        vertical-align: middle;\n",
       "    }\n",
       "\n",
       "    .dataframe tbody tr th {\n",
       "        vertical-align: top;\n",
       "    }\n",
       "\n",
       "    .dataframe thead th {\n",
       "        text-align: right;\n",
       "    }\n",
       "</style>\n",
       "<table border=\"1\" class=\"dataframe\">\n",
       "  <thead>\n",
       "    <tr style=\"text-align: right;\">\n",
       "      <th></th>\n",
       "      <th>id</th>\n",
       "      <th>vendor_id</th>\n",
       "      <th>pickup_datetime</th>\n",
       "      <th>passenger_count</th>\n",
       "      <th>pickup_longitude</th>\n",
       "      <th>pickup_latitude</th>\n",
       "      <th>dropoff_longitude</th>\n",
       "      <th>dropoff_latitude</th>\n",
       "      <th>store_and_fwd_flag</th>\n",
       "      <th>dist_long</th>\n",
       "      <th>dist_lat</th>\n",
       "      <th>dist</th>\n",
       "      <th>pickup_date</th>\n",
       "      <th>pickup_time</th>\n",
       "      <th>pickup_month</th>\n",
       "      <th>pickup_hour</th>\n",
       "      <th>pickup_weekday</th>\n",
       "    </tr>\n",
       "  </thead>\n",
       "  <tbody>\n",
       "    <tr>\n",
       "      <th>0</th>\n",
       "      <td>id3004672</td>\n",
       "      <td>1</td>\n",
       "      <td>2016-06-30 23:59:58</td>\n",
       "      <td>1</td>\n",
       "      <td>-73.988</td>\n",
       "      <td>40.732</td>\n",
       "      <td>-73.990</td>\n",
       "      <td>40.757</td>\n",
       "      <td>0</td>\n",
       "      <td>0.002</td>\n",
       "      <td>-0.025</td>\n",
       "      <td>0.025</td>\n",
       "      <td>2016-06-30</td>\n",
       "      <td>23:59:58</td>\n",
       "      <td>6</td>\n",
       "      <td>23</td>\n",
       "      <td>3</td>\n",
       "    </tr>\n",
       "  </tbody>\n",
       "</table>\n",
       "</div>"
      ],
      "text/plain": [
       "          id  vendor_id     pickup_datetime  passenger_count  \\\n",
       "0  id3004672          1 2016-06-30 23:59:58                1   \n",
       "\n",
       "   pickup_longitude  pickup_latitude  dropoff_longitude  dropoff_latitude  \\\n",
       "0           -73.988           40.732            -73.990            40.757   \n",
       "\n",
       "   store_and_fwd_flag  dist_long  dist_lat  dist pickup_date pickup_time  \\\n",
       "0                   0      0.002    -0.025 0.025  2016-06-30    23:59:58   \n",
       "\n",
       "   pickup_month  pickup_hour  pickup_weekday  \n",
       "0             6           23               3  "
      ]
     },
     "execution_count": 38,
     "metadata": {},
     "output_type": "execute_result"
    }
   ],
   "source": [
    "test.head(1)"
   ]
  },
  {
   "cell_type": "code",
   "execution_count": 39,
   "metadata": {
    "_uuid": "1795dba997b66c539b5f20c5f09a4cdbea9341a8"
   },
   "outputs": [],
   "source": [
    "submission = pd.DataFrame({'id':test['id'], 'trip_duration': test_pred})\n",
    "submission.to_csv('mySubmission.csv')\n"
   ]
  },
  {
   "cell_type": "markdown",
   "metadata": {
    "_uuid": "4f612fa311b0c2456ab23c3f5c9c5159624ef8f9"
   },
   "source": [
    "\n",
    "\n"
   ]
  }
 ],
 "metadata": {
  "kernelspec": {
   "display_name": "Python 3",
   "language": "python",
   "name": "python3"
  },
  "language_info": {
   "codemirror_mode": {
    "name": "ipython",
    "version": 3
   },
   "file_extension": ".py",
   "mimetype": "text/x-python",
   "name": "python",
   "nbconvert_exporter": "python",
   "pygments_lexer": "ipython3",
   "version": "3.7.0"
  }
 },
 "nbformat": 4,
 "nbformat_minor": 1
}
